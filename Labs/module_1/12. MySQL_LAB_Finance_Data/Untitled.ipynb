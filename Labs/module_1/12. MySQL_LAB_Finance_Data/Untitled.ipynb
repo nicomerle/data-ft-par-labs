{
 "cells": [
  {
   "cell_type": "markdown",
   "metadata": {},
   "source": [
    "1. Count the number of clients per gender\n",
    "2. Are there any accounts that have more than 2 linked clients?\n",
    "3. What is the average transaction amount for each region?\n",
    "4. Based on the entire transaction volume (total amount), what's the percentage that was sent to another bank?\n",
    "5. From which region do most of the clients that are account owners come from, that either have finished loan contracts that haven't been paid, or have running contracts but are in debt? Show the top 10 regions including the number of client that are owners."
   ]
  },
  {
   "cell_type": "code",
   "execution_count": null,
   "metadata": {},
   "outputs": [],
   "source": []
  }
 ],
 "metadata": {
  "kernelspec": {
   "display_name": "Python 3",
   "language": "python",
   "name": "python3"
  },
  "language_info": {
   "codemirror_mode": {
    "name": "ipython",
    "version": 3
   },
   "file_extension": ".py",
   "mimetype": "text/x-python",
   "name": "python",
   "nbconvert_exporter": "python",
   "pygments_lexer": "ipython3",
   "version": "3.8.5"
  }
 },
 "nbformat": 4,
 "nbformat_minor": 4
}
